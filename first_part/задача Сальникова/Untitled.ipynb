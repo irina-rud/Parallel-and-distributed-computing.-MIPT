{
 "cells": [
  {
   "cell_type": "code",
   "execution_count": 3,
   "metadata": {
    "collapsed": false
   },
   "outputs": [
    {
     "name": "stdout",
     "output_type": "stream",
     "text": [
      "5 x 5\n",
      "0 0 1 5 1 1 5 0\n",
      "0 1 4 8 9 1 3 0\n",
      "0 2 6 10 9 0 5 0\n",
      "0 3 9 2 4 1 4 0\n",
      "0 4 7 4 3 0 2 1\n",
      "1 0 4 3 4 1 9 0\n",
      "1 1 7 1 7 0 8 1\n",
      "1 2 6 1 5 1 2 0\n",
      "1 3 3 2 3 1 7 0\n",
      "1 4 5 7 2 0 4 1\n",
      "2 0 10 2 1 0 9 1\n",
      "2 1 5 5 8 0 9 0\n",
      "2 2 5 4 4 0 10 0\n",
      "2 3 6 2 1 1 8 0\n",
      "2 4 9 7 10 0 10 0\n",
      "3 0 8 6 3 1 10 0\n",
      "3 1 10 3 6 1 5 0\n",
      "3 2 7 6 7 0 10 0\n",
      "3 3 9 3 3 0 2 0\n",
      "3 4 5 4 4 1 8 0\n",
      "4 0 6 2 3 1 7 0\n",
      "4 1 1 8 6 0 4 0\n",
      "4 2 5 2 4 0 9 0\n",
      "4 3 9 8 5 0 2 1\n",
      "4 4 7 9 10 1 8 0\n"
     ]
    },
    {
     "name": "stderr",
     "output_type": "stream",
     "text": [
      "/home/riv/anaconda3/lib/python3.5/site-packages/ipykernel/__main__.py:11: DeprecationWarning: This function is deprecated. Please call randint(1, 10 + 1) instead\n"
     ]
    }
   ],
   "source": [
    "import sys\n",
    "import numpy as np\n",
    "#1. координата x  2. координата y\n",
    "#3. питательная среда концентрация (целое число unsigned long) 4. вещество 1 концентрация (unsigned long) 5. вещество 2 концентрация (unsigned long)\n",
    "#6. бактерия вид 1 (0 — нет, 1 - присутствует ) [7. раунды голодания (unsigned int) ]\n",
    "#8. бактерия вид 2 (0 — нет, 1 — присутствует) предусмотреть возможность коментариев начинающихся символом '#' и пустых строк.\n",
    "\n",
    "print(\"5 x 5\")\n",
    "for i in range(5):\n",
    "    for j in range(5):\n",
    "        p = np.random.random_integers(10, size = 6)\n",
    "        if (p[3] % 2 == 1) & (p[5] % 2 == 1):\n",
    "            if (p[3] > p[5]):\n",
    "                p[3]  = 0\n",
    "            else:\n",
    "                p[5] = 0\n",
    "        print(str(i) + \" \"+ str(j)+ \" \" + str(p[0])+ \" \" + str(p[1]) +\" \" +  str(p[2])\n",
    "              + \" \" + str(p[3] % 2)+ \" \" + str(p[4])+ \" \" + str(p[5] % 2))"
   ]
  }
 ],
 "metadata": {
  "kernelspec": {
   "display_name": "Python 3",
   "language": "python",
   "name": "python3"
  },
  "language_info": {
   "codemirror_mode": {
    "name": "ipython",
    "version": 3
   },
   "file_extension": ".py",
   "mimetype": "text/x-python",
   "name": "python",
   "nbconvert_exporter": "python",
   "pygments_lexer": "ipython3",
   "version": "3.5.2"
  }
 },
 "nbformat": 4,
 "nbformat_minor": 0
}
